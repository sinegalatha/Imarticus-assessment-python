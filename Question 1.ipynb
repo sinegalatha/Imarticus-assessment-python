{
 "cells": [
  {
   "cell_type": "code",
   "execution_count": 1,
   "metadata": {},
   "outputs": [
    {
     "name": "stdout",
     "output_type": "stream",
     "text": [
      "The posive comments are  ['He is a good boy', 'He is an awesome player', 'She is the best', 'These burger are really nice']\n",
      "The negative comments are  ['Food is the worst here', 'This pizza tastes awful']\n"
     ]
    }
   ],
   "source": [
    "positive=['good','awesome','best','nice']\n",
    "negative=['worst','awful']\n",
    "comment=['He is a good boy','Food is the worst here','He is an awesome player','She is the best','This pizza tastes awful','These burger are really nice']\n",
    "p_comment=[]\n",
    "n_comment=[]\n",
    "for i in comment:\n",
    "    split_word=i.split(\" \")\n",
    "    for j in positive:\n",
    "        if j in split_word:\n",
    "            if i not in p_comment:\n",
    "                p_comment.append(i)\n",
    "    for j in negative:\n",
    "        if j in split_word:\n",
    "            if i not in n_comment:\n",
    "                n_comment.append(i)\n",
    "print(\"The posive comments are \",p_comment)\n",
    "print(\"The negative comments are \",n_comment)"
   ]
  },
  {
   "cell_type": "code",
   "execution_count": null,
   "metadata": {},
   "outputs": [],
   "source": []
  }
 ],
 "metadata": {
  "kernelspec": {
   "display_name": "Python 3",
   "language": "python",
   "name": "python3"
  },
  "language_info": {
   "codemirror_mode": {
    "name": "ipython",
    "version": 3
   },
   "file_extension": ".py",
   "mimetype": "text/x-python",
   "name": "python",
   "nbconvert_exporter": "python",
   "pygments_lexer": "ipython3",
   "version": "3.8.3"
  }
 },
 "nbformat": 4,
 "nbformat_minor": 4
}
