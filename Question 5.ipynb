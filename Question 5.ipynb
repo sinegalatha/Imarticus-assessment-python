{
 "cells": [
  {
   "cell_type": "code",
   "execution_count": 17,
   "metadata": {},
   "outputs": [
    {
     "name": "stdout",
     "output_type": "stream",
     "text": [
      "{'John': 7.44, 'Shelly': 10.75, 'Marry': 5.79}\n"
     ]
    }
   ],
   "source": [
    "GMoon=1.622\n",
    "GEarth=9.81\n",
    "WE={'John':45,'Shelly':65,'Marry':35}\n",
    "keys=list(WE.keys())\n",
    "wm=list(map(lambda y:round((WE[y]*GMoon)/GEarth,2),keys))\n",
    "WM={}\n",
    "for i in range(len(keys)):\n",
    "    WM[keys[i]]=wmoon[i]\n",
    "   \n",
    "print(WM)"
   ]
  },
  {
   "cell_type": "code",
   "execution_count": null,
   "metadata": {},
   "outputs": [],
   "source": []
  },
  {
   "cell_type": "code",
   "execution_count": null,
   "metadata": {},
   "outputs": [],
   "source": []
  }
 ],
 "metadata": {
  "kernelspec": {
   "display_name": "Python 3",
   "language": "python",
   "name": "python3"
  },
  "language_info": {
   "codemirror_mode": {
    "name": "ipython",
    "version": 3
   },
   "file_extension": ".py",
   "mimetype": "text/x-python",
   "name": "python",
   "nbconvert_exporter": "python",
   "pygments_lexer": "ipython3",
   "version": "3.8.3"
  }
 },
 "nbformat": 4,
 "nbformat_minor": 4
}
