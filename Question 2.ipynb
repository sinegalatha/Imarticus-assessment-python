{
 "cells": [
  {
   "cell_type": "code",
   "execution_count": 2,
   "metadata": {},
   "outputs": [
    {
     "name": "stdout",
     "output_type": "stream",
     "text": [
      "Enter the number for squaring 10\n",
      "Enter the number for cubing 10\n",
      "Enter the number for square root 100\n",
      "The sum of all output are  1110.0\n"
     ]
    }
   ],
   "source": [
    "import math\n",
    "dict={'Square':lambda x:x*x,'Cube':lambda y:y*y*y,'Squareroot':lambda z:math.sqrt(z)}\n",
    "a=dict['Square'](int(input(\"Enter the number for squaring \")))\n",
    "b=dict['Cube'](int(input(\"Enter the number for cubing \")))\n",
    "c=dict['Squareroot'](int(input(\"Enter the number for square root \")))\n",
    "print(\"The sum of all output are \",(a+b+c))"
   ]
  },
  {
   "cell_type": "code",
   "execution_count": null,
   "metadata": {},
   "outputs": [],
   "source": []
  }
 ],
 "metadata": {
  "kernelspec": {
   "display_name": "Python 3",
   "language": "python",
   "name": "python3"
  },
  "language_info": {
   "codemirror_mode": {
    "name": "ipython",
    "version": 3
   },
   "file_extension": ".py",
   "mimetype": "text/x-python",
   "name": "python",
   "nbconvert_exporter": "python",
   "pygments_lexer": "ipython3",
   "version": "3.8.3"
  }
 },
 "nbformat": 4,
 "nbformat_minor": 4
}
