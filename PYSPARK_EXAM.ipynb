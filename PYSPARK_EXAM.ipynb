{
  "nbformat": 4,
  "nbformat_minor": 0,
  "metadata": {
    "colab": {
      "name": "PYSPARK EXAM",
      "provenance": []
    },
    "kernelspec": {
      "name": "python3",
      "display_name": "Python 3"
    },
    "language_info": {
      "name": "python"
    }
  },
  "cells": [
    {
      "cell_type": "markdown",
      "source": [
        "Given is the boston.csv dataset with the following variable information:\n",
        "# CRIM - Per Capita crime rate\n",
        "# ZN - Proportion of residential land zoned for lots over 25000 sq. ft\n",
        "# INDUS - Proportion of non-retial business acres\n",
        "# CHAS - Charles River dummy variable (1 - if tracts bounds river, 0 -otherwise)\n",
        "# NOX - Nitrogen Oxide concentration\n",
        "# RM - Average number of rooms per dwelling\n",
        "# AGE - Proportion of owner-occupied unit built prior 1940\n",
        "# DIS - Weighted MEan of distances of five Boston Employement Centres\n",
        "# RAD - Index of accessibilities to Radial highways\n",
        "# TAX - Full-value-property-tax rates per $10,000\n",
        "# PT - Pupil-teacher Ratio\n",
        "# B - the proportion of blacks\n",
        "# LSTAT - Lower Status of the Population (%)\n",
        "# MV - Median Value of homes (Target Variable)"
      ],
      "metadata": {
        "id": "RDfGZsZ0gW4R"
      }
    },
    {
      "cell_type": "code",
      "source": [
        "pip install pyspark"
      ],
      "metadata": {
        "colab": {
          "base_uri": "https://localhost:8080/"
        },
        "id": "7GNqRSzlbIKE",
        "outputId": "4e11ae6d-7d25-4da8-afd3-d894fb5199d1"
      },
      "execution_count": null,
      "outputs": [
        {
          "output_type": "stream",
          "name": "stdout",
          "text": [
            "Looking in indexes: https://pypi.org/simple, https://us-python.pkg.dev/colab-wheels/public/simple/\n",
            "Collecting pyspark\n",
            "  Downloading pyspark-3.3.0.tar.gz (281.3 MB)\n",
            "\u001b[K     |████████████████████████████████| 281.3 MB 44 kB/s \n",
            "\u001b[?25hCollecting py4j==0.10.9.5\n",
            "  Downloading py4j-0.10.9.5-py2.py3-none-any.whl (199 kB)\n",
            "\u001b[K     |████████████████████████████████| 199 kB 51.6 MB/s \n",
            "\u001b[?25hBuilding wheels for collected packages: pyspark\n",
            "  Building wheel for pyspark (setup.py) ... \u001b[?25l\u001b[?25hdone\n",
            "  Created wheel for pyspark: filename=pyspark-3.3.0-py2.py3-none-any.whl size=281764026 sha256=8f0dbd323d36f3d31fed4ed966c6bca170fcd6df695233a72d2065f231d57324\n",
            "  Stored in directory: /root/.cache/pip/wheels/7a/8e/1b/f73a52650d2e5f337708d9f6a1750d451a7349a867f928b885\n",
            "Successfully built pyspark\n",
            "Installing collected packages: py4j, pyspark\n",
            "Successfully installed py4j-0.10.9.5 pyspark-3.3.0\n"
          ]
        }
      ]
    },
    {
      "cell_type": "code",
      "execution_count": null,
      "metadata": {
        "id": "cHRemicxZHMy"
      },
      "outputs": [],
      "source": [
        "import pandas as pd\n",
        "import numpy as np\n",
        "from pyspark.sql import SparkSession"
      ]
    },
    {
      "cell_type": "code",
      "source": [
        "spark=SparkSession.builder.appName('Questions').getOrCreate()"
      ],
      "metadata": {
        "id": "7nbb2Fgyac19"
      },
      "execution_count": null,
      "outputs": []
    },
    {
      "cell_type": "code",
      "source": [
        "spark"
      ],
      "metadata": {
        "colab": {
          "base_uri": "https://localhost:8080/",
          "height": 219
        },
        "id": "uRMfl4dEakvX",
        "outputId": "0bd48466-d44d-4ee9-8651-ef5f4406d155"
      },
      "execution_count": null,
      "outputs": [
        {
          "output_type": "execute_result",
          "data": {
            "text/plain": [
              "<pyspark.sql.session.SparkSession at 0x7f36692cddd0>"
            ],
            "text/html": [
              "\n",
              "            <div>\n",
              "                <p><b>SparkSession - in-memory</b></p>\n",
              "                \n",
              "        <div>\n",
              "            <p><b>SparkContext</b></p>\n",
              "\n",
              "            <p><a href=\"http://544128f296f6:4040\">Spark UI</a></p>\n",
              "\n",
              "            <dl>\n",
              "              <dt>Version</dt>\n",
              "                <dd><code>v3.3.0</code></dd>\n",
              "              <dt>Master</dt>\n",
              "                <dd><code>local[*]</code></dd>\n",
              "              <dt>AppName</dt>\n",
              "                <dd><code>Questions</code></dd>\n",
              "            </dl>\n",
              "        </div>\n",
              "        \n",
              "            </div>\n",
              "        "
            ]
          },
          "metadata": {},
          "execution_count": 9
        }
      ]
    },
    {
      "cell_type": "markdown",
      "source": [
        "# Q.1\n",
        "# Read the given CSV file in a Hive table \n",
        "\n",
        "---\n",
        "\n",
        "\n",
        "\n",
        "---\n",
        "\n"
      ],
      "metadata": {
        "id": "pwHDRwChfgPK"
      }
    },
    {
      "cell_type": "markdown",
      "source": [
        "\n",
        "\n",
        "# Perform the following tasks using PySpark\n",
        "# Q2. Read the data from Hive table as spark dataframe"
      ],
      "metadata": {
        "id": "_jtYQ5cbfsU4"
      }
    },
    {
      "cell_type": "code",
      "source": [
        "emp = spark.read.csv('/content/boston.csv',header='true', \n",
        "                      inferSchema='true')\n",
        "emp.show(5)"
      ],
      "metadata": {
        "colab": {
          "base_uri": "https://localhost:8080/"
        },
        "id": "GPa18K05bjG7",
        "outputId": "f7b97f90-06f3-404c-b20e-26af5bc0ad83"
      },
      "execution_count": null,
      "outputs": [
        {
          "output_type": "stream",
          "name": "stdout",
          "text": [
            "+-----------+----+-----------+----+-----------+-----------+-----------+-----------+---+---+-----------+-----------+-----------+-----------+\n",
            "|       CRIM|  ZN|      INDUS|CHAS|        NOX|         RM|        AGE|        DIS|RAD|TAX|         PT|          B|      LSTAT|         MV|\n",
            "+-----------+----+-----------+----+-----------+-----------+-----------+-----------+---+---+-----------+-----------+-----------+-----------+\n",
            "|    0.00632|18.0|2.309999943|   0|0.537999988|6.574999809|65.19999695|4.090000153|  1|296|15.30000019|396.8999939|4.980000019|       24.0|\n",
            "|0.027310001| 0.0|7.070000172|   0|0.469000012|6.421000004|78.90000153|4.967100143|  2|242|17.79999924|396.8999939|9.140000343|21.60000038|\n",
            "|    0.02729| 0.0|7.070000172|   0|0.469000012|7.184999943|61.09999847|4.967100143|  2|242|17.79999924|392.8299866| 4.03000021|34.70000076|\n",
            "|0.032370001| 0.0|2.180000067|   0|0.458000004|6.998000145|45.79999924|6.062200069|  3|222|18.70000076|394.6300049|2.940000057|33.40000153|\n",
            "|0.069049999| 0.0|2.180000067|   0|0.458000004|7.146999836|54.20000076|6.062200069|  3|222|18.70000076|396.8999939|5.329999924|36.20000076|\n",
            "+-----------+----+-----------+----+-----------+-----------+-----------+-----------+---+---+-----------+-----------+-----------+-----------+\n",
            "only showing top 5 rows\n",
            "\n"
          ]
        }
      ]
    },
    {
      "cell_type": "markdown",
      "source": [
        "# Q3. Get the correlation between dependent and independent variables"
      ],
      "metadata": {
        "id": "7hLM4i1Vf68l"
      }
    },
    {
      "cell_type": "code",
      "source": [
        "import six\n",
        "for i in emp.columns:\n",
        "    if not( isinstance(emp.select(i).take(1)[0][0], six.string_types)):\n",
        "        print( \"Correlation to MV for \", i, emp.stat.corr('MV',i))"
      ],
      "metadata": {
        "colab": {
          "base_uri": "https://localhost:8080/"
        },
        "id": "SVn9dqrZbqUV",
        "outputId": "7cf9d92e-a6f1-405a-8756-d5036cc40514"
      },
      "execution_count": null,
      "outputs": [
        {
          "output_type": "stream",
          "name": "stdout",
          "text": [
            "Correlation to MV for  CRIM -0.3883046116575088\n",
            "Correlation to MV for  ZN 0.36044534463752903\n",
            "Correlation to MV for  INDUS -0.48372517128143383\n",
            "Correlation to MV for  CHAS 0.17526017775291847\n",
            "Correlation to MV for  NOX -0.4273207763683772\n",
            "Correlation to MV for  RM 0.695359937127267\n",
            "Correlation to MV for  AGE -0.37695456714288667\n",
            "Correlation to MV for  DIS 0.24992873873512172\n",
            "Correlation to MV for  RAD -0.3816262315669168\n",
            "Correlation to MV for  TAX -0.46853593528654536\n",
            "Correlation to MV for  PT -0.5077867038116085\n",
            "Correlation to MV for  B 0.3334608226834164\n",
            "Correlation to MV for  LSTAT -0.7376627294671615\n",
            "Correlation to MV for  MV 1.0\n"
          ]
        }
      ]
    },
    {
      "cell_type": "code",
      "source": [
        "from pyspark.ml.feature import VectorAssembler\n",
        "vectorAssembler = VectorAssembler(inputCols = ['CRIM', 'ZN', 'INDUS', 'CHAS', 'NOX', 'RM', 'AGE', 'DIS', 'RAD', 'TAX', 'PT', 'B', 'LSTAT'], outputCol = 'features')\n"
      ],
      "metadata": {
        "id": "U9Xh4UT3cmO-"
      },
      "execution_count": null,
      "outputs": []
    },
    {
      "cell_type": "code",
      "source": [
        "vhouse_df = vectorAssembler.transform(emp)\n"
      ],
      "metadata": {
        "id": "EgmcFO1KddVM"
      },
      "execution_count": null,
      "outputs": []
    },
    {
      "cell_type": "code",
      "source": [
        "vhouse_df =vhouse_df.select(['features', 'MV'])\n",
        "vhouse_df.show(3)"
      ],
      "metadata": {
        "colab": {
          "base_uri": "https://localhost:8080/"
        },
        "id": "PbVn_p2BdBam",
        "outputId": "70102cef-5e31-4754-f841-25be3a2f3d94"
      },
      "execution_count": null,
      "outputs": [
        {
          "output_type": "stream",
          "name": "stdout",
          "text": [
            "+--------------------+-----------+\n",
            "|            features|         MV|\n",
            "+--------------------+-----------+\n",
            "|[0.00632,18.0,2.3...|       24.0|\n",
            "|[0.027310001,0.0,...|21.60000038|\n",
            "|[0.02729,0.0,7.07...|34.70000076|\n",
            "+--------------------+-----------+\n",
            "only showing top 3 rows\n",
            "\n"
          ]
        }
      ]
    },
    {
      "cell_type": "markdown",
      "source": [
        "# Q4. Build a linear regression model to predict house price"
      ],
      "metadata": {
        "id": "AKRHhXiOgEvk"
      }
    },
    {
      "cell_type": "code",
      "source": [
        "splits = vhouse_df.randomSplit([0.7, 0.3])\n",
        "train_df = splits[0]\n",
        "test_df = splits[1]"
      ],
      "metadata": {
        "id": "2guzwKyCdf4p"
      },
      "execution_count": null,
      "outputs": []
    },
    {
      "cell_type": "code",
      "source": [
        "from pyspark.ml.regression import LinearRegression\n",
        "lr = LinearRegression(featuresCol = 'features', labelCol='MV', maxIter=10, regParam=0.3, elasticNetParam=0.8)\n",
        "lr_model = lr.fit(train_df)\n",
        "print(\"Coefficients: \" + str(lr_model.coefficients))\n",
        "print(\"Intercept: \" + str(lr_model.intercept))"
      ],
      "metadata": {
        "colab": {
          "base_uri": "https://localhost:8080/"
        },
        "id": "PmDukHE2e9Ui",
        "outputId": "e11b2cc4-c735-4da4-d0f8-df78938de171"
      },
      "execution_count": null,
      "outputs": [
        {
          "output_type": "stream",
          "name": "stdout",
          "text": [
            "Coefficients: [-0.025037968160610824,0.005640799184985269,0.0,0.09324703578921087,-6.438928211248475,4.842621411775615,0.0,-0.45569750443074103,0.0,-0.003685921035017689,-0.8880934687930451,0.006725830658934064,-0.3791496487770949]\n",
            "Intercept: 17.400901210855146\n"
          ]
        }
      ]
    },
    {
      "cell_type": "markdown",
      "source": [
        "# Q5. Evaluate the Linear Regression model by getting the RMSE and R-squared values"
      ],
      "metadata": {
        "id": "0EEFqZyAgN76"
      }
    },
    {
      "cell_type": "code",
      "source": [
        "trainingSummary = lr_model.summary\n",
        "print(\"RMSE: %f\" % trainingSummary.rootMeanSquaredError)\n",
        "print(\"r2: %f\" % trainingSummary.r2)"
      ],
      "metadata": {
        "colab": {
          "base_uri": "https://localhost:8080/"
        },
        "id": "FLFGbIG8e_sF",
        "outputId": "22b23a49-9cdd-4488-edf6-d67feec88126"
      },
      "execution_count": null,
      "outputs": [
        {
          "output_type": "stream",
          "name": "stdout",
          "text": [
            "RMSE: 4.322945\n",
            "r2: 0.744371\n"
          ]
        }
      ]
    },
    {
      "cell_type": "code",
      "source": [
        "train_df.describe().show()"
      ],
      "metadata": {
        "colab": {
          "base_uri": "https://localhost:8080/"
        },
        "id": "q-SnkVLhfGoF",
        "outputId": "a175ad07-de85-4452-df8b-25b277724f41"
      },
      "execution_count": null,
      "outputs": [
        {
          "output_type": "stream",
          "name": "stdout",
          "text": [
            "+-------+------------------+\n",
            "|summary|                MV|\n",
            "+-------+------------------+\n",
            "|  count|               357|\n",
            "|   mean|22.113725526002803|\n",
            "| stddev| 8.562162452362136|\n",
            "|    min|               5.0|\n",
            "|    max|              50.0|\n",
            "+-------+------------------+\n",
            "\n"
          ]
        }
      ]
    },
    {
      "cell_type": "code",
      "source": [
        "lr_predictions = lr_model.transform(test_df)\n",
        "lr_predictions.select(\"prediction\",\"MV\",\"features\").show(5)\n",
        "from pyspark.ml.evaluation import RegressionEvaluator\n",
        "lr_evaluator = RegressionEvaluator(predictionCol=\"prediction\", \\\n",
        "                 labelCol=\"MV\",metricName=\"r2\")\n",
        "print(\"R Squared (R2) on test data = %g\" % lr_evaluator.evaluate(lr_predictions))"
      ],
      "metadata": {
        "colab": {
          "base_uri": "https://localhost:8080/"
        },
        "id": "BV97MLAEfJ3i",
        "outputId": "134bce12-b5e6-472a-84b1-5263938cbd8f"
      },
      "execution_count": null,
      "outputs": [
        {
          "output_type": "stream",
          "name": "stdout",
          "text": [
            "+------------------+-----------+--------------------+\n",
            "|        prediction|         MV|            features|\n",
            "+------------------+-----------+--------------------+\n",
            "|32.371438696218554|32.70000076|[0.01301,35.0,1.5...|\n",
            "|30.563858290603495|35.40000153|[0.01311,90.0,1.2...|\n",
            "|16.952043881804325|18.89999962|[0.0136,75.0,4.0,...|\n",
            "| 38.49326798501068|       50.0|[0.01381,80.0,0.4...|\n",
            "| 25.82000071126466|23.10000038|[0.0187,85.0,4.15...|\n",
            "+------------------+-----------+--------------------+\n",
            "only showing top 5 rows\n",
            "\n",
            "R Squared (R2) on test data = 0.619351\n"
          ]
        }
      ]
    },
    {
      "cell_type": "code",
      "source": [
        "test_result = lr_model.evaluate(test_df)\n",
        "print(\"Root Mean Squared Error (RMSE) on test data = %g\" % test_result.rootMeanSquaredError)"
      ],
      "metadata": {
        "colab": {
          "base_uri": "https://localhost:8080/"
        },
        "id": "2LGQGt7BfLrm",
        "outputId": "11250059-c15b-4c6e-f742-4ad12aba49aa"
      },
      "execution_count": null,
      "outputs": [
        {
          "output_type": "stream",
          "name": "stdout",
          "text": [
            "Root Mean Squared Error (RMSE) on test data = 6.47373\n"
          ]
        }
      ]
    },
    {
      "cell_type": "code",
      "source": [
        "print(\"numIterations: %d\" % trainingSummary.totalIterations)\n",
        "print(\"objectiveHistory: %s\" % str(trainingSummary.objectiveHistory))\n",
        "trainingSummary.residuals.show()"
      ],
      "metadata": {
        "colab": {
          "base_uri": "https://localhost:8080/"
        },
        "id": "3QCF_nGnfQFo",
        "outputId": "be42361f-7909-44dc-d7bd-3c9adedc8c3d"
      },
      "execution_count": null,
      "outputs": [
        {
          "output_type": "stream",
          "name": "stdout",
          "text": [
            "numIterations: 10\n",
            "objectiveHistory: [0.49999999999999956, 0.4305439922001351, 0.2193416498160873, 0.19708735265922883, 0.16899042095445863, 0.1670963052820008, 0.16679017103300825, 0.16640504462016953, 0.1657181172081439, 0.1656253685283487, 0.16557595882950427]\n",
            "+--------------------+\n",
            "|           residuals|\n",
            "+--------------------+\n",
            "|  -6.117020072235093|\n",
            "|  0.8324670627464954|\n",
            "|  -5.966457469099101|\n",
            "| 0.27693008442520295|\n",
            "| -1.2453117381711323|\n",
            "| -3.1079528878423233|\n",
            "|  10.240053301987729|\n",
            "|   9.019943167766186|\n",
            "|  2.6838907008947857|\n",
            "|  2.1758964443994984|\n",
            "|  -1.643821135120806|\n",
            "|   5.968876832412207|\n",
            "|-0.05995090426608485|\n",
            "| -10.046860089714421|\n",
            "|  -3.461108941869089|\n",
            "|   3.374821972092562|\n",
            "|  -4.115334868128937|\n",
            "|   2.414719889130705|\n",
            "| -1.1300696413305218|\n",
            "|  0.4814324060976709|\n",
            "+--------------------+\n",
            "only showing top 20 rows\n",
            "\n"
          ]
        }
      ]
    },
    {
      "cell_type": "code",
      "source": [
        "predictions = lr_model.transform(test_df)\n",
        "predictions.select(\"prediction\",\"MV\",\"features\").show()"
      ],
      "metadata": {
        "colab": {
          "base_uri": "https://localhost:8080/"
        },
        "id": "Bv-JnEUZfRwe",
        "outputId": "f3643db8-24fe-47fe-c9dc-92b3d9b6c5ae"
      },
      "execution_count": null,
      "outputs": [
        {
          "output_type": "stream",
          "name": "stdout",
          "text": [
            "+------------------+-----------+--------------------+\n",
            "|        prediction|         MV|            features|\n",
            "+------------------+-----------+--------------------+\n",
            "|32.371438696218554|32.70000076|[0.01301,35.0,1.5...|\n",
            "|30.563858290603495|35.40000153|[0.01311,90.0,1.2...|\n",
            "|16.952043881804325|18.89999962|[0.0136,75.0,4.0,...|\n",
            "| 38.49326798501068|       50.0|[0.01381,80.0,0.4...|\n",
            "| 25.82000071126466|23.10000038|[0.0187,85.0,4.15...|\n",
            "| 27.29703200907881|       33.0|[0.019509999,17.5...|\n",
            "| 39.48460054276684|       50.0|[0.020090001,95.0...|\n",
            "|25.927658651502227|24.70000076|[0.02055,85.0,0.7...|\n",
            "|24.295945855507448|19.39999962|[0.03466,35.0,6.0...|\n",
            "|29.550914956280593|       28.5|[0.035020001,80.0...|\n",
            "|24.071853406548748|22.89999962|[0.03551,25.0,4.8...|\n",
            "| 37.54158481455373|45.40000153|[0.035780001,20.0...|\n",
            "|28.094211571974178|       23.5|[0.035840001,80.0...|\n",
            "|25.067213314799016|24.79999924|[0.036589999,25.0...|\n",
            "| 34.86968469363982|34.59999847|[0.03768,80.0,1.5...|\n",
            "|25.961741959592253|23.20000076|[0.038710002,52.5...|\n",
            "| 24.68008774284147|20.60000038|[0.042939998,28.0...|\n",
            "|26.300470691623687|22.29999924|[0.045899998,52.5...|\n",
            "|26.411205835373117|22.60000038|[0.046840001,0.0,...|\n",
            "| 23.42891910994287|22.20000076|[0.050829999,0.0,...|\n",
            "+------------------+-----------+--------------------+\n",
            "only showing top 20 rows\n",
            "\n"
          ]
        }
      ]
    },
    {
      "cell_type": "code",
      "source": [
        "from pyspark.ml.regression import DecisionTreeRegressor\n",
        "dt = DecisionTreeRegressor(featuresCol ='features', labelCol = 'MV')\n",
        "dt_model = dt.fit(train_df)\n",
        "dt_predictions = dt_model.transform(test_df)\n",
        "dt_evaluator = RegressionEvaluator(\n",
        "    labelCol=\"MV\", predictionCol=\"prediction\", metricName=\"rmse\")\n",
        "rmse = dt_evaluator.evaluate(dt_predictions)\n",
        "print(\"Root Mean Squared Error (RMSE) on test data = %g\" % rmse)"
      ],
      "metadata": {
        "colab": {
          "base_uri": "https://localhost:8080/"
        },
        "id": "2RkzYeiFfUP9",
        "outputId": "681e9250-ea7a-4123-8262-710f460e209e"
      },
      "execution_count": null,
      "outputs": [
        {
          "output_type": "stream",
          "name": "stdout",
          "text": [
            "Root Mean Squared Error (RMSE) on test data = 5.33332\n"
          ]
        }
      ]
    },
    {
      "cell_type": "code",
      "source": [
        ""
      ],
      "metadata": {
        "id": "Bw2dZQtCfXa9"
      },
      "execution_count": null,
      "outputs": []
    }
  ]
}